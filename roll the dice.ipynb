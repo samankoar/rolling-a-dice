{
 "cells": [
  {
   "cell_type": "code",
   "execution_count": 8,
   "metadata": {},
   "outputs": [
    {
     "name": "stdout",
     "output_type": "stream",
     "text": [
      "roll the dice ...\n",
      "you rolled: 5\n"
     ]
    }
   ],
   "source": [
    "import random\n",
    "\n",
    "minimum = 1\n",
    "maximum = 6\n",
    "again = 'yes'\n",
    "\n",
    "print('roll the dice ...')\n",
    "print('you rolled:',random.randint(minimum,maximum))"
   ]
  },
  {
   "cell_type": "code",
   "execution_count": 9,
   "metadata": {},
   "outputs": [
    {
     "name": "stdout",
     "output_type": "stream",
     "text": [
      "play again y/n\n",
      "y\n",
      "roll the dice ...\n",
      "you rolled: 2\n"
     ]
    }
   ],
   "source": [
    "again = input('play again y/n\\n')\n",
    "while again == \"yes\" or again == \"y\":\n",
    "    print('roll the dice ...')\n",
    "    print('you rolled:',random.randint(minimum,maximum))\n",
    "\n",
    "    again = \"no\"\n"
   ]
  }
 ],
 "metadata": {
  "kernelspec": {
   "display_name": "Python 3",
   "language": "python",
   "name": "python3"
  },
  "language_info": {
   "codemirror_mode": {
    "name": "ipython",
    "version": 3
   },
   "file_extension": ".py",
   "mimetype": "text/x-python",
   "name": "python",
   "nbconvert_exporter": "python",
   "pygments_lexer": "ipython3",
   "version": "3.7.7"
  }
 },
 "nbformat": 4,
 "nbformat_minor": 4
}
